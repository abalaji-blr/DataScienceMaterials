{
 "cells": [
  {
   "cell_type": "markdown",
   "metadata": {},
   "source": [
    "# AWS setup for Deep Learning\n",
    "\n"
   ]
  },
  {
   "cell_type": "markdown",
   "metadata": {},
   "source": [
    "1) Visit aws.amazon.com and sign in to the console.\n",
    "\n",
    "2) Launch EC2 GPU instance\n",
    "    + g2 instance\n",
    "    + p2 is available only in western contries.\n",
    "3) Use Amazon AMI : Deep Learning \n",
    "\n",
    "4) ssh -i xxx.pem ubuntu@EC2 instnace\n",
    "    \n",
    "    user id: ubuntu\n",
    "    password: <empty>\n",
    "    \n",
    "5) switch user to icarus\n",
    "   \n",
    "   $su icarus\n",
    "   \n",
    "   passwd: changetheworld\n",
    "   \n",
    "   [For more info. refer this link](https://github.com/Miej/GoDeeper)"
   ]
  },
  {
   "cell_type": "code",
   "execution_count": null,
   "metadata": {
    "collapsed": true
   },
   "outputs": [],
   "source": []
  }
 ],
 "metadata": {
  "anaconda-cloud": {},
  "kernelspec": {
   "display_name": "Python [conda root]",
   "language": "python",
   "name": "conda-root-py"
  },
  "language_info": {
   "codemirror_mode": {
    "name": "ipython",
    "version": 2
   },
   "file_extension": ".py",
   "mimetype": "text/x-python",
   "name": "python",
   "nbconvert_exporter": "python",
   "pygments_lexer": "ipython2",
   "version": "2.7.12"
  }
 },
 "nbformat": 4,
 "nbformat_minor": 1
}
